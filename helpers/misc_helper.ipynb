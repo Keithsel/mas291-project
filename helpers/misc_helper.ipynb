{
 "cells": [
  {
   "cell_type": "code",
   "execution_count": 7,
   "metadata": {},
   "outputs": [
    {
     "name": "stdout",
     "output_type": "stream",
     "text": [
      "/home/ibi/Documents/GitHub/mas291-project\n"
     ]
    }
   ],
   "source": [
    "import json\n",
    "from shapely.geometry import shape, mapping\n",
    "from shapely.ops import unary_union\n",
    "from shapely.wkt import loads as loads_wkt\n",
    "import pandas as pd\n",
    "import sys, os\n",
    "this_path = '/home/ibi/Documents/GitHub/mas291-project/'\n",
    "sys.path.append(this_path)\n",
    "os.chdir(this_path)\n",
    "print(os.getcwd())"
   ]
  },
  {
   "cell_type": "code",
   "execution_count": 8,
   "metadata": {},
   "outputs": [],
   "source": [
    "nyc = 'data/geojson/NYC_boro_boundaries.geojson'\n",
    "with open(nyc, 'r') as file:\n",
    "    geojson_data = json.load(file)\n",
    "\n",
    "features = geojson_data['features']\n",
    "\n",
    "geometries = [shape(feature['geometry']) for feature in features]\n",
    "merged_geometry = unary_union(geometries)\n",
    "\n",
    "merged_feature = {\n",
    "    \"type\": \"Feature\",\n",
    "    \"geometry\": mapping(merged_geometry),\n",
    "    \"properties\": {\"name\": \"New York City\"}\n",
    "}\n",
    "\n",
    "merged_geojson = {\n",
    "    \"type\": \"FeatureCollection\",\n",
    "    \"features\": [merged_feature]\n",
    "}\n",
    "\n",
    "merged_geojson_path = 'data/geojson/NYC_boundaries_merged.geojson'\n",
    "with open(merged_geojson_path, 'w') as file:\n",
    "    json.dump(merged_geojson, file)"
   ]
  },
  {
   "cell_type": "code",
   "execution_count": 10,
   "metadata": {},
   "outputs": [],
   "source": [
    "chicago_csv = 'data/misc/chicago_boundary.csv'\n",
    "chicago_df = pd.read_csv(chicago_csv)\n",
    "\n",
    "features = []\n",
    "\n",
    "for _, row in chicago_df.iterrows():\n",
    "    geom = loads_wkt(row['the_geom'])\n",
    "    feature = {\n",
    "        \"type\": \"Feature\",\n",
    "        \"geometry\": mapping(geom),\n",
    "        \"properties\": {\n",
    "            \"SHAPE_AREA\": row[\"SHAPE_AREA\"],\n",
    "            \"NAME\": row[\"NAME\"],\n",
    "            \"OBJECTID\": row[\"OBJECTID\"],\n",
    "            \"SHAPE_LEN\": row[\"SHAPE_LEN\"]\n",
    "        }\n",
    "    }\n",
    "    features.append(feature)\n",
    "\n",
    "geojson = {\n",
    "    \"type\": \"FeatureCollection\",\n",
    "    \"features\": features\n",
    "}\n",
    "\n",
    "chicago_geojson_path = 'data/geojson/chicago_boundary.geojson'\n",
    "with open(chicago_geojson_path, 'w') as file:\n",
    "    json.dump(geojson, file)"
   ]
  }
 ],
 "metadata": {
  "kernelspec": {
   "display_name": "mas291project",
   "language": "python",
   "name": "python3"
  },
  "language_info": {
   "codemirror_mode": {
    "name": "ipython",
    "version": 3
   },
   "file_extension": ".py",
   "mimetype": "text/x-python",
   "name": "python",
   "nbconvert_exporter": "python",
   "pygments_lexer": "ipython3",
   "version": "3.1.-1"
  }
 },
 "nbformat": 4,
 "nbformat_minor": 2
}
